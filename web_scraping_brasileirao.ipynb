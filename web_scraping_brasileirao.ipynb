{
  "cells": [
    {
      "cell_type": "markdown",
      "source": [
        "#Web Scrapping Brasileirão\n",
        ""
      ],
      "metadata": {
        "id": "XFKDq0dDb1FT"
      }
    },
    {
      "cell_type": "markdown",
      "source": [
        "*Coleta de dados da página da CBF sobre Campeontato Brasileiro, das edições a partir de 2012 até 2023*"
      ],
      "metadata": {
        "id": "ySY4X5dHcGtl"
      }
    },
    {
      "cell_type": "markdown",
      "source": [
        "## Importação de Bibliotecas"
      ],
      "metadata": {
        "id": "7Sz7Z1jq1qcy"
      }
    },
    {
      "cell_type": "code",
      "execution_count": 19,
      "metadata": {
        "id": "Uyek9f3egAPO"
      },
      "outputs": [],
      "source": [
        "import requests\n",
        "from bs4 import BeautifulSoup\n",
        "import pandas as pd\n",
        "import numpy as np"
      ]
    },
    {
      "cell_type": "markdown",
      "source": [
        "## Extração dos Dados"
      ],
      "metadata": {
        "id": "xhC8FIVUqKO7"
      }
    },
    {
      "cell_type": "code",
      "execution_count": 62,
      "metadata": {
        "id": "skljYT1vgQDb"
      },
      "outputs": [],
      "source": [
        "base_brasileirao = []\n",
        "tabela = []\n",
        "lista_time = []\n",
        "\n",
        "# extrair dados do brasileirão de 2012 a 2023 da página da CBF\n",
        "\n",
        "for ano in list(range(2012, 2023 + 1)):\n",
        "\n",
        "  URL = f'https://www.cbf.com.br/futebol-brasileiro/competicoes/campeonato-brasileiro-serie-a/{ano}'\n",
        "\n",
        "  r = requests.get(URL)\n",
        "\n",
        "  site = BeautifulSoup(r.content, 'html.parser')\n",
        "\n",
        "# inserir times e ano\n",
        "\n",
        "  for slide in site.find_all('div', class_='aside-content'):\n",
        "\n",
        "    time = []\n",
        "\n",
        "    for img in slide.find_all('img'):\n",
        "\n",
        "      time.append(img['title'])\n",
        "      time.append(ano)\n",
        "      lista_time.append(time)\n",
        "      time = []\n",
        "\n",
        "#inserir dados dos jogos duplicados\n",
        "\n",
        "    partida_a = []\n",
        "    partida_b = []\n",
        "\n",
        "    for string in slide.stripped_strings:\n",
        "\n",
        "      if (string not in ['Como foi o jogo', 'Detalhes do jogo']):\n",
        "\n",
        "        if 'alter' not in string:\n",
        "\n",
        "          if string != '(W.O. Duplo)':\n",
        "\n",
        "            if string != '(-)':\n",
        "\n",
        "              partida_a.append(string)\n",
        "              partida_b.append(string)\n",
        "\n",
        "      else:\n",
        "\n",
        "        partida_a.append(ano)\n",
        "        partida_b.append(ano)\n",
        "        tabela.append(partida_a)\n",
        "        tabela.append(partida_b)\n",
        "        partida_a = []\n",
        "        partida_b = []"
      ]
    },
    {
      "cell_type": "markdown",
      "source": [
        "## Limpeza e Transformação dos Dados"
      ],
      "metadata": {
        "id": "VEa6MSUpqPgj"
      }
    },
    {
      "cell_type": "code",
      "source": [
        "# criando dataframe e nomeando colunas\n",
        "\n",
        "tabela_a = pd.DataFrame(tabela, columns=['data_hora', 'sigla_casa', 'sigla_visitante', 'placar', 'estadio', 'ano'])\n",
        "\n",
        "# colunas dia, data, e hota\n",
        "\n",
        "tabela_a['dia'] = tabela_a['data_hora'].str.slice(0, 3)\n",
        "tabela_a['data'] = tabela_a['data_hora'].str.slice(5, 15)\n",
        "tabela_a['hora'] = tabela_a['data_hora'].str.slice(16, 21)\n",
        "\n",
        "#colunas gols casa e visitante\n",
        "\n",
        "tabela_a['gols_casa'] = tabela_a['placar'].str.slice(0, 1)\n",
        "tabela_a['gols_visitante'] = tabela_a['placar'].str.slice(-1)\n",
        "\n",
        "# coluna estadio, cidade, estado jogo\n",
        "tabela_a[['estadio_jogo', 'cidade_jogo', 'estado_jogo']] = tabela_a['estadio'].str.split(' - ', expand=True)\n",
        "\n",
        "#colunas gols casa e visitante\n",
        "\n",
        "tabela_a['gols_casa'] = tabela_a['placar'].str.slice(0, 1)\n",
        "tabela_a['gols_visitante'] = tabela_a['placar'].str.slice(-1)\n",
        "\n",
        "#adicionando colunas time e ano\n",
        "\n",
        "tabela_a[['time', 'ano']] = lista_time\n",
        "\n",
        "tabela_a[['time', 'estado_time']] = tabela_a['time'].str.split(' - ', expand=True)\n",
        "\n",
        "index_pares = list(range(0, tabela_a.shape[0], 2))\n",
        "index_impares = list(range(1, tabela_a.shape[0], 2))\n",
        "\n",
        "# adicionando adversario e estado adversário\n",
        "\n",
        "for i in list(range(tabela_a.shape[0])):\n",
        "\n",
        "  if i in index_pares:\n",
        "\n",
        "    tabela_a.loc[i, 'adversario'] = tabela_a.loc[i+1, 'time']\n",
        "    tabela_a.loc[i, 'estado_adversario'] = tabela_a.loc[i+1, 'estado_time']\n",
        "\n",
        "  if i in index_impares:\n",
        "\n",
        "    tabela_a.loc[i, 'adversario'] = tabela_a.loc[i-1, 'time']\n",
        "    tabela_a.loc[i, 'estado_adversario'] = tabela_a.loc[i-1, 'estado_time']\n",
        "\n",
        "# alterando tipo de dado gols casa e visitante\n",
        "\n",
        "tabela_a['gols_casa'] = tabela_a['gols_casa'].astype(int)\n",
        "tabela_a['gols_visitante'] = tabela_a['gols_visitante'].astype(int)\n",
        "\n",
        "tabela_a.loc[tabela_a.placar == '17:00', 'gols_casa'] = np.nan #gols wo\n",
        "tabela_a.loc[tabela_a.placar == '17:00', 'gols_visitante'] = np.nan #gols wo\n",
        "\n",
        "# coluna lugar\n",
        "\n",
        "tabela_a.loc[index_pares, 'lugar'] = 'casa'\n",
        "tabela_a.loc[index_impares, 'lugar'] = 'visitante'\n",
        "\n",
        "#coluna gols\n",
        "\n",
        "tabela_a.loc[index_pares, 'gols_pro'] = tabela_a['gols_casa']\n",
        "tabela_a.loc[index_impares, 'gols_pro'] = tabela_a['gols_visitante']\n",
        "tabela_a.loc[index_pares, 'gols_contra'] = tabela_a['gols_visitante']\n",
        "tabela_a.loc[index_impares, 'gols_contra'] = tabela_a['gols_casa']\n",
        "tabela_a.loc[tabela_a.placar == '17:00', 'gols_pro'] = np.nan\n",
        "tabela_a.loc[tabela_a.placar == '17:00', 'gols_contra'] = np.nan\n",
        "tabela_a['gols_saldo'] = tabela_a['gols_pro'] - tabela_a['gols_contra']\n",
        "\n",
        "# coluna sigla do time\n",
        "\n",
        "tabela_a.loc[index_pares, 'sigla_time'] = tabela_a['sigla_casa']\n",
        "tabela_a.loc[index_impares, 'sigla_time'] = tabela_a['sigla_visitante']\n",
        "\n",
        "# coluna sigla adversario\n",
        "\n",
        "for i in list(range(tabela_a.shape[0])):\n",
        "\n",
        "  if i in index_pares:\n",
        "\n",
        "    tabela_a.loc[i, 'sigla_adversario'] = tabela_a.loc[i+1, 'sigla_time']\n",
        "\n",
        "  if i in index_impares:\n",
        "\n",
        "    tabela_a.loc[i, 'sigla_adversario'] = tabela_a.loc[i-1, 'sigla_time']\n",
        "\n",
        "# alteração tipo da data\n",
        "\n",
        "tabela_a['data'] = pd.to_datetime(tabela_a['data'], dayfirst=True)\n",
        "\n",
        "#coluna SAF\n",
        "\n",
        "tabela_a['SAF'] = 'NÃO'\n",
        "\n",
        "tabela_a.loc[tabela_a['time'].map(lambda x: 'S.a.f.' in x), 'SAF'] = 'SIM'\n",
        "tabela_a.loc[tabela_a['time'].map(lambda x: 'Saf' in x), 'SAF'] = 'SIM'\n",
        "\n",
        "# ajustando coluna time após SAF\n",
        "\n",
        "tabela_a.loc[tabela_a['time'].map(lambda x: 'S.a.f.' in x), 'time'] = tabela_a.loc[tabela_a['time'].map(lambda x: 'S.a.f.' in x), 'time'].str.slice(0, -7)\n",
        "tabela_a.loc[tabela_a['time'].map(lambda x: 'Saf' in x), 'time'] = tabela_a.loc[tabela_a['time'].map(lambda x: 'Saf' in x), 'time'].str.slice(0, -4)\n",
        "\n",
        "# coluna resultado\n",
        "\n",
        "tabela_a['resultado'] = 'empate'\n",
        "\n",
        "tabela_a.loc[(tabela_a['gols_casa'] > tabela_a['gols_visitante']) & (tabela_a['lugar'] == 'casa'), 'resultado'] = 'vitoria'\n",
        "tabela_a.loc[(tabela_a['gols_casa'] < tabela_a['gols_visitante']) & (tabela_a['lugar'] == 'casa'), 'resultado'] = 'derrota'\n",
        "tabela_a.loc[(tabela_a['gols_casa'] > tabela_a['gols_visitante']) & (tabela_a['lugar'] == 'visitante'), 'resultado'] = 'derrota'\n",
        "tabela_a.loc[(tabela_a['gols_casa'] < tabela_a['gols_visitante']) & (tabela_a['lugar'] == 'visitante'), 'resultado'] = 'vitoria'\n",
        "tabela_a.loc[tabela_a.placar == '17:00', 'resultado'] = 'WO'\n",
        "\n",
        "# coluna pontos\n",
        "\n",
        "tabela_a.loc[tabela_a['resultado'] == 'empate', 'pontos'] = 1\n",
        "tabela_a.loc[tabela_a['resultado'] == 'vitoria', 'pontos'] = 3\n",
        "tabela_a.loc[tabela_a['resultado'] == 'derrota', 'pontos'] = 0\n",
        "\n",

          # colunas pontos, gols_pro, gols_contra acumulados
          
          for ano in list(tabela_a.ano.unique()):
          
            tabela_b = tabela_a.loc[tabela_a['ano'] == ano]
          
            for time in list(tabela_b.time.unique()):
          
              index = list(tabela_b.loc[tabela_b['time'] == time].index)
          
              for j in list(range(tabela_b.loc[tabela_b['time'] == time].shape[0])):
          
                tabela_a.loc[index[j], 'gols_contra_acum'] = tabela_a.loc[tabela_a.index.isin(index), 'gols_contra'][:j+1].sum()
                tabela_a.loc[index[j], 'gols_pro_acum'] = tabela_a.loc[tabela_a.index.isin(index), 'gols_pro'][:j+1].sum()
                tabela_a.loc[index[j], 'gols_saldo_acum'] = tabela_a.loc[tabela_a.index.isin(index), 'gols_saldo'][:j+1].sum()
                tabela_a.loc[index[j], 'pontos_acum'] = tabela_a.loc[tabela_a.index.isin(index), 'pontos'][:j+1].sum()
                tabela_a.loc[index[j], 'gols_saldo_acum_ini'] = tabela_a.loc[index[j], 'gols_saldo_acum'] - tabela_a.loc[index[j], 'gols_saldo']
                tabela_a.loc[index[j], 'gols_saldo_acum_max'] = tabela_a.loc[index[j], 'gols_saldo_acum_ini'] + tabela_a.loc[index[j], 'gols_pro']
                tabela_a.loc[index[j], 'gols_saldo_acum_min'] = tabela_a.loc[index[j], 'gols_saldo_acum_ini'] - tabela_a.loc[index[j], 'gols_contra']

        "# padronização de times\n",
        "\n",
        "lista_americas = ['América Fc', 'America Fc', 'América', 'America']\n",
        "tabela_a.loc[(tabela_a['time'].isin(lista_americas)) & (tabela_a['estado_time'] == 'MG'), 'time'] = 'America Mineiro'\n",
        "\n",
        "lista_atleticos = ['Atlético', 'Atletico', 'Athletico', 'Athletico Paranaense', 'Atlético Mineiro', 'Atlético Paranaense', 'Atlético Mineiro']\n",
        "tabela_a.loc[(tabela_a['time'].isin(lista_atleticos)) & (tabela_a['estado_time'] == 'MG'), 'time'] = 'Atletico Mineiro'\n",
        "tabela_a.loc[(tabela_a['time'].isin(lista_atleticos)) & (tabela_a['estado_time'] == 'PR'), 'time'] = 'Athletico Paranaense'\n",
        "tabela_a.loc[(tabela_a['time'].isin(lista_atleticos)) & (tabela_a['estado_time'] == 'GO'), 'time'] = 'Atletico Goianiense'\n",
        "\n",
        "# excusão de colunas\n",
        "\n",
        "tabela_a.drop(['data_hora', 'sigla_casa', 'sigla_visitante', 'placar', 'estadio', 'gols_casa', 'gols_visitante'], axis=1, inplace=True)\n"
      ],
      "metadata": {
        "id": "McyYXlsB3zOa"
      },
      "execution_count": 86,
      "outputs": []
    },
    {
      "cell_type": "markdown",
      "source": [
        "## Gravação dos dados tratados"
      ],
      "metadata": {
        "id": "zBvxu9Ykch5j"
      }
    },
    {
      "cell_type": "code",
      "source": [
        "tabela_a.to_csv('./base/brasileirao_completo.csv', index=False)"
      ],
      "metadata": {
        "id": "LMGtCx_y4r8P"
      },
      "execution_count": 89,
      "outputs": []
    }
  ],
  "metadata": {
    "colab": {
      "provenance": []
    },
    "kernelspec": {
      "display_name": "Python 3",
      "name": "python3"
    },
    "language_info": {
      "name": "python"
    }
  },
  "nbformat": 4,
  "nbformat_minor": 0
}
